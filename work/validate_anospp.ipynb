{
 "cells": [
  {
   "cell_type": "markdown",
   "id": "666a97e4",
   "metadata": {},
   "source": [
    "## Setup"
   ]
  },
  {
   "cell_type": "code",
   "execution_count": null,
   "id": "76f985d4",
   "metadata": {},
   "outputs": [],
   "source": [
    "%run validate_partner_manifest_dev.ipynb"
   ]
  },
  {
   "cell_type": "code",
   "execution_count": null,
   "id": "b25eaed8",
   "metadata": {},
   "outputs": [],
   "source": [
    "def validate_anospp(fn, template_fn='../data/Anopheles_Metadata_Manifest_V4.0_20240813.xlsx', \n",
    "                    verbose=False, samples_sheet='TAB 2 Metadata Entry',\n",
    "                    contrib_sheet='TAB 1 Contributors', write_sts=True):\n",
    "    '''\n",
    "    ANOSPP partner manifest validation\n",
    "    Validation follows the order of columns order in data entry sheet\n",
    "    '''\n",
    "\n",
    "    setup_logging(verbose=verbose)\n",
    "\n",
    "    logging.info(f'# partner manifest validation v.{VALIDATION_VERSION}')\n",
    "    logging.info(f'# validating against ANOSPP manifest v.{ANOSPP_VERSION}')\n",
    "    logging.info(f'# manifest \"{fn}\"')\n",
    "\n",
    "    # read data\n",
    "    df = get_data(fn, sheet=samples_sheet)\n",
    "    df = fix_date_formats(df)\n",
    "    # validate series, exclude non-numeric\n",
    "    df = validate_series(df)\n",
    "    # clean up data\n",
    "    df = remove_trailing_spaces(df, title='sample')\n",
    "    \n",
    "    # read NCBI taxonomy\n",
    "    ncbi = ete3.NCBITaxa()\n",
    "    \n",
    "    # prepare for validation\n",
    "    template_df = get_data(template_fn, sheet='TAB 2 Metadata Entry')\n",
    "    check_columns(df, template_df)\n",
    "    valid_dict = get_valid_dict(template_fn, validation_sheet='TAB 5 Data Validation - do not ')\n",
    "    contrib_df = validate_contributors(fn, contrib_sheet=contrib_sheet)\n",
    "    \n",
    "    # check columns in order of appearance\n",
    "    \n",
    "    # orange cols\n",
    "    # RACK_OR_PLATE_ID, TUBE_OR_WELL_ID\n",
    "    df, gal, partner_code = validate_plates_wells(df, contrib_df, 'RACK_OR_PLATE_ID', 'TUBE_OR_WELL_ID')\n",
    "    # check blanks\n",
    "    df, is_blank = check_blanks(df)\n",
    "    if df[~is_blank].shape[0] == 0:\n",
    "        logging.error('no non-blank samples to validate, terminating')\n",
    "        return df\n",
    "    validate_values('PRESERVATIVE_SOLUTION', df, valid_dict)\n",
    "    validate_values('ORGANISM_PART', df, valid_dict, sep='|')\n",
    "    # columns below validated for non-blank samples only\n",
    "    validate_regex('DATE_OF_COLLECTION', df[~is_blank], na_values=['NOT_COLLECTED',''])\n",
    "    validate_regex('DECIMAL_LATITUDE', df[~is_blank])\n",
    "    validate_regex('DECIMAL_LONGITUDE', df[~is_blank])\n",
    "    # COLLECTION_COUNTRY, DECIMAL_LATITUDE, DECIMAL_LONGITUDE\n",
    "    validate_country_and_coordinates(df[~is_blank], fn, na_values=[''])\n",
    "    # COLLECTION_LOCATION not checked\n",
    "    validate_values('SAMPLING_LOCATION_SIZE', df[~is_blank], valid_dict)\n",
    "    \n",
    "    # purple cols - validate non-blank samples only\n",
    "    df = validate_taxonomy(df, ncbi, anospp=True, na_values = [''])\n",
    "    validate_values('SPECIMEN_IDENTITY_RISK', df[~is_blank], valid_dict, na_values = [''])\n",
    "    validate_specimen_id_risk(df)\n",
    "    validate_freetext('IDENTIFIED_HOW', df[~is_blank])\n",
    "    validate_values('LIFESTAGE', df[~is_blank], valid_dict)\n",
    "    validate_values('SEX', df[~is_blank], valid_dict, na_values = [''])\n",
    "    validate_regex('TIME_OF_COLLECTION', df[~is_blank], na_values=['NOT_COLLECTED',''])\n",
    "    validate_regex('DURATION_OF_COLLECTION', df[~is_blank], na_values=['NOT_COLLECTED',''])\n",
    "    validate_values('COLLECTION_METHOD', df[~is_blank], valid_dict)\n",
    "    validate_values('OUTDOORS_INDOORS', df[~is_blank], valid_dict, na_values = [''])\n",
    "    validate_freetext('DESCRIPTION_OF_COLLECTION_METHOD', df[~is_blank])\n",
    "    validate_freetext('PRESERVATION_APPROACH', df[~is_blank])\n",
    "    \n",
    "    # white cols - validate all samples\n",
    "    validate_values('BLOOD_MEAL', df, valid_dict, na_values=[''])\n",
    "    validate_values('GRAVIDITY', df, valid_dict, na_values=[''])\n",
    "    validate_freetext('HABITAT', df)\n",
    "    validate_regex('DATE_OF_PRESERVATION', df, na_values=['']) # allow for empty values unlike DATE_OF_COLLECTION\n",
    "    compare_dates_text('DATE_OF_COLLECTION', 'DATE_OF_PRESERVATION', df[~is_blank])\n",
    "    validate_regex('ELEVATION', df, na_values=[''])\n",
    "    validate_regex('WHAT_3_WORDS', df[~is_blank], na_values=[''])\n",
    "    validate_freetext('OTHER_ORGANISMS', df)\n",
    "    validate_freetext('BIOASSAYS', df)\n",
    "    validate_freetext('COLLECTOR_SAMPLE_ID', df)\n",
    "    validate_freetext('OTHER_INFORMATION', df)\n",
    "    # MISC_METADATA can be removed safely\n",
    "    if 'MISC_METADATA' in df.columns:\n",
    "        validate_freetext('MISC_METADATA', df)\n",
    "    validate_freetext('DNA_EXTRACTION_DESCRIPTION', df)\n",
    "    validate_regex('DNA_EXTRACT_VOLUME_PROVIDED', df, na_values=[''])\n",
    "    validate_regex('DNA_EXTRACT_CONCENTRATION', df, na_values=[''])\n",
    "            \n",
    "    \n",
    "    \n",
    "    df = add_sts_cols(df, contrib_df, gal, bioscan=False, v='NA')\n",
    "    if write_sts:\n",
    "        write_sts_manifest(df, fn, VALIDATION_VERSION)\n",
    "\n",
    "    logging.info('# ended validate_anospp_partner_manifest')\n",
    "    \n",
    "    print('\\n'.join(df.RACK_OR_PLATE_ID.unique()))\n",
    "    \n",
    "    return df"
   ]
  },
  {
   "cell_type": "code",
   "execution_count": null,
   "id": "52c6d3f5",
   "metadata": {},
   "outputs": [],
   "source": [
    "fn = '../data/Anopheles_Metadata_Manifest_V4.0_20240813.xlsx'\n",
    "template_fn = fn\n",
    "df = validate_anospp(fn, template_fn, verbose=True, samples_sheet='TAB 3 TEST Metadata Entry')"
   ]
  },
  {
   "cell_type": "code",
   "execution_count": null,
   "id": "50c12fdf",
   "metadata": {},
   "outputs": [],
   "source": [
    "raise Exception('Setup complete')"
   ]
  },
  {
   "cell_type": "markdown",
   "id": "527309bb",
   "metadata": {},
   "source": [
    "## Validation"
   ]
  },
  {
   "cell_type": "code",
   "execution_count": null,
   "id": "7b19a5ad",
   "metadata": {},
   "outputs": [],
   "source": [
    "fn = '../results/20240819_mg/MANIFEST_MOSQUITOES_MADAGASCAR_am60_2.xlsx'\n",
    "df = validate_anospp(fn, template_fn, samples_sheet='TAB 2 Metadata Entry', contrib_sheet='TAB 1 Contributors')"
   ]
  },
  {
   "cell_type": "code",
   "execution_count": null,
   "id": "520423bd",
   "metadata": {},
   "outputs": [],
   "source": []
  }
 ],
 "metadata": {
  "kernelspec": {
   "display_name": "Python 3 (ipykernel)",
   "language": "python",
   "name": "python3"
  },
  "language_info": {
   "codemirror_mode": {
    "name": "ipython",
    "version": 3
   },
   "file_extension": ".py",
   "mimetype": "text/x-python",
   "name": "python",
   "nbconvert_exporter": "python",
   "pygments_lexer": "ipython3",
   "version": "3.7.6"
  }
 },
 "nbformat": 4,
 "nbformat_minor": 5
}
